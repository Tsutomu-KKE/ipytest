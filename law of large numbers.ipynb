{
 "metadata": {
  "name": "",
  "signature": "sha256:3e8e52e0a1fb32a2c14dc05a8b1ccf18c15edc432c1d81c0f523e698020d77d5"
 },
 "nbformat": 3,
 "nbformat_minor": 0,
 "worksheets": [
  {
   "cells": [
    {
     "cell_type": "markdown",
     "metadata": {},
     "source": [
      "#\u5927\u6570\u306e\u6cd5\u5247"
     ]
    },
    {
     "cell_type": "code",
     "collapsed": false,
     "input": [
      "# \u6e96\u5099\n",
      "import itertools\n",
      "bins, n = 50, 100000"
     ],
     "language": "python",
     "metadata": {},
     "outputs": []
    },
    {
     "cell_type": "code",
     "collapsed": false,
     "input": [
      "for i in range(1, 7):\n",
      "    hist(sum(random.random(n) for j in range(i)) / i, bins, histtype='step')"
     ],
     "language": "python",
     "metadata": {},
     "outputs": []
    },
    {
     "cell_type": "code",
     "collapsed": false,
     "input": [
      "for i in range(1, 13):\n",
      "    hist(sum(random.exponential(1, n) for j in range(i)) / i, bins, histtype='step')"
     ],
     "language": "python",
     "metadata": {},
     "outputs": []
    },
    {
     "cell_type": "code",
     "collapsed": false,
     "input": [
      "for i in range(1, 13):\n",
      "    hist(sum(random.randn(n) for j in range(i)) / i, bins, histtype='step')"
     ],
     "language": "python",
     "metadata": {},
     "outputs": []
    },
    {
     "cell_type": "code",
     "collapsed": false,
     "input": [
      "for i in range(1, 6):\n",
      "    hist(sum(random.randn(n) for j in range(i)) / sqrt(i), bins, histtype='step')"
     ],
     "language": "python",
     "metadata": {},
     "outputs": []
    },
    {
     "cell_type": "code",
     "collapsed": false,
     "input": [
      "for i in range(1, 7):\n",
      "    hist(sum(random.random(n) - 0.5 for j in range(i)) / sqrt(i), bins, histtype='step')"
     ],
     "language": "python",
     "metadata": {},
     "outputs": []
    },
    {
     "cell_type": "code",
     "collapsed": false,
     "input": [
      "for i in range(1, 20):\n",
      "    hist(sum(random.exponential(1, n) - 1 for j in range(i)) / sqrt(i), bins, histtype='step')"
     ],
     "language": "python",
     "metadata": {},
     "outputs": []
    }
   ],
   "metadata": {}
  }
 ]
}