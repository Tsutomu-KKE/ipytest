{
 "cells": [
  {
   "cell_type": "code",
   "execution_count": 8,
   "metadata": {
    "collapsed": false
   },
   "outputs": [],
   "source": [
    "%matplotlib inline\n",
    "import networkx as nx, numpy as np, matplotlib.pyplot as plt, scipy.optimize as so\n",
    "from pulp import *\n",
    "plt.rcParams['figure.figsize'] = (6, 2)\n",
    "plt.rcParams['font.family'] = 'Microsoft JhengHei'"
   ]
  },
  {
   "cell_type": "markdown",
   "metadata": {},
   "source": [
    "###BPR関数\n"
   ]
  },
  {
   "cell_type": "code",
   "execution_count": 3,
   "metadata": {
    "collapsed": true
   },
   "outputs": [],
   "source": [
    "def bpr(x, c=1, a=0.48, b=2.82):\n",
    "    return 1 + a * pow(x / c, b)"
   ]
  },
  {
   "cell_type": "code",
   "execution_count": 4,
   "metadata": {
    "collapsed": true
   },
   "outputs": [],
   "source": [
    "a = np.linspace(0, 3)"
   ]
  },
  {
   "cell_type": "code",
   "execution_count": 11,
   "metadata": {
    "collapsed": false
   },
   "outputs": [
    {
     "data": {
      "text/plain": [
       "[<matplotlib.lines.Line2D at 0x91b61d0>]"
      ]
     },
     "execution_count": 11,
     "metadata": {},
     "output_type": "execute_result"
    },
    {
     "data": {
      "image/png": "[encoded data removed]",
      "text/plain": [
       "<matplotlib.figure.Figure at 0x91b6240>"
      ]
     },
     "metadata": {},
     "output_type": "display_data"
    }
   ],
   "source": [
    "plt.xlabel('混雑度')\n",
    "plt.ylabel('移動時間')\n",
    "plt.plot(a, bpr(a))"
   ]
  },
  {
   "cell_type": "code",
   "execution_count": 13,
   "metadata": {
    "collapsed": false
   },
   "outputs": [
    {
     "data": {
      "image/png": "[encoded data removed]",
      "text/plain": [
       "<matplotlib.figure.Figure at 0x9222f98>"
      ]
     },
     "metadata": {},
     "output_type": "display_data"
    }
   ],
   "source": [
    "g = nx.Graph() # ネットワーク\n",
    "g.add_edges_from([(0, 2), (2, 3), (3, 1), (2, 5), (0, 4), (4, 5), (5, 1)])\n",
    "pos = {0:(0, 1), 1:(3, 1), 2:(1, 1), 3:(2, 2), 4:(1, 0), 5:(2, 1)}\n",
    "nx.draw_networkx_labels(g, pos, labels={i:i for i in range(6)})\n",
    "nx.draw(g, pos)"
   ]
  },
  {
   "cell_type": "code",
   "execution_count": 15,
   "metadata": {
    "collapsed": false
   },
   "outputs": [
    {
     "data": {
      "image/png": "[encoded data removed]",
      "text/plain": [
       "<matplotlib.figure.Figure at 0x92fe278>"
      ]
     },
     "metadata": {},
     "output_type": "display_data"
    }
   ],
   "source": [
    "for i, j in g.edges():\n",
    "    g.adj[i][j]['capacity'] = 1\n",
    "r = nx.max_flow_min_cost(g, 0, 1)\n",
    "nx.draw_networkx_edges(g, pos, [(i, j) for i in r for j, v in r[i].items() if v]); None"
   ]
  },
  {
   "cell_type": "code",
   "execution_count": 113,
   "metadata": {
    "collapsed": false
   },
   "outputs": [
    {
     "data": {
      "text/plain": [
       "[(0, 2, 1), (0, 4, 1), (2, 3, 1), (3, 1, 1), (4, 5, 1), (5, 1, 1)]"
      ]
     },
     "execution_count": 113,
     "metadata": {},
     "output_type": "execute_result"
    }
   ],
   "source": [
    "[(i, j, v) for i in r for j, v in r[i].items() if v]"
   ]
  },
  {
   "cell_type": "code",
   "execution_count": 16,
   "metadata": {
    "collapsed": false
   },
   "outputs": [
    {
     "data": {
      "text/plain": [
       "[(0, 2), (0, 4), (1, 3), (1, 5), (2, 3), (2, 5), (4, 5)]"
      ]
     },
     "execution_count": 16,
     "metadata": {},
     "output_type": "execute_result"
    }
   ],
   "source": [
    "g.edges()"
   ]
  },
  {
   "cell_type": "code",
   "execution_count": 48,
   "metadata": {
    "collapsed": false
   },
   "outputs": [
    {
     "name": "stdout",
     "output_type": "stream",
     "text": [
      "Optimization terminated successfully.    (Exit mode 0)\n",
      "            Current function value: -15.1585152992\n",
      "            Iterations: 6\n",
      "            Function evaluations: 57\n",
      "            Gradient evaluations: 6\n"
     ]
    },
    {
     "data": {
      "text/plain": [
       "array([ 1.99659619,  1.43674679,  1.43674663,  1.99659634,  1.43674663,\n",
       "        0.55984956,  1.43674679])"
      ]
     },
     "execution_count": 48,
     "metadata": {},
     "output_type": "execute_result"
    }
   ],
   "source": [
    "def objfunc(x):\n",
    "    return sum(bpr(x)) - (x[0] + x[1]) * 10\n",
    "eq = [lambda x: x[0] - x[4] - x[5],\n",
    "      lambda x: x[4] - x[2],\n",
    "      lambda x: x[1] - x[6],\n",
    "      lambda x: x[5] + x[6] - x[3]]\n",
    "r = so.fmin_slsqp(objfunc, [0] * 7, eqcons=eq, iter=100, iprint=1)\n",
    "r"
   ]
  },
  {
   "cell_type": "code",
   "execution_count": 64,
   "metadata": {
    "collapsed": false
   },
   "outputs": [
    {
     "name": "stdout",
     "output_type": "stream",
     "text": [
      "[ 1.99659619  1.43674679  1.43674663  1.99659634  1.43674663  0.55984956\n",
      "  1.43674679]\n"
     ]
    },
    {
     "data": {
      "image/png": "[encoded data removed]",
      "text/plain": [
       "<matplotlib.figure.Figure at 0x96c2550>"
      ]
     },
     "metadata": {},
     "output_type": "display_data"
    }
   ],
   "source": [
    "nx.draw_networkx_nodes(g, pos)\n",
    "nx.draw_networkx_edges(g, pos, [g.edges()[i] for i, f in enumerate(r) if f > 0.1], width=0.5)\n",
    "nx.draw_networkx_edges(g, pos, [g.edges()[i] for i, f in enumerate(r) if f > 1], width=1)\n",
    "nx.draw_networkx_edges(g, pos, [g.edges()[i] for i, f in enumerate(r) if f > 1.8], width=3)\n",
    "print(r)"
   ]
  },
  {
   "cell_type": "code",
   "execution_count": 72,
   "metadata": {
    "collapsed": false
   },
   "outputs": [
    {
     "data": {
      "text/plain": [
       "[<matplotlib.lines.Line2D at 0xb5542e8>]"
      ]
     },
     "execution_count": 72,
     "metadata": {},
     "output_type": "execute_result"
    },
    {
     "data": {
      "image/png": "[encoded data removed]",
      "text/plain": [
       "<matplotlib.figure.Figure at 0x97c1908>"
      ]
     },
     "metadata": {},
     "output_type": "display_data"
    }
   ],
   "source": [
    "rr = np.linspace(1, 2, 10)\n",
    "plt.plot([objfunc(np.array([1,1,1,1,1,0,1]) * i) for i in rr])"
   ]
  },
  {
   "cell_type": "code",
   "execution_count": null,
   "metadata": {
    "collapsed": true
   },
   "outputs": [],
   "source": []
  }
 ],
 "metadata": {
  "kernelspec": {
   "display_name": "Python 3",
   "language": "python",
   "name": "python3"
  },
  "language_info": {
   "codemirror_mode": {
    "name": "ipython",
    "version": 3
   },
   "file_extension": ".py",
   "mimetype": "text/x-python",
   "name": "python",
   "nbconvert_exporter": "python",
   "pygments_lexer": "ipython3",
   "version": "3.4.1"
  }
 },
 "nbformat": 4,
 "nbformat_minor": 0
}
