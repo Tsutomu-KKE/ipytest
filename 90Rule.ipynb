{
 "metadata": {
  "name": "",
  "signature": "sha256:6a4d0c3abef8b78599e962cd0beef599a2b447b41801ce31cf34ad2157c5eaa3"
 },
 "nbformat": 3,
 "nbformat_minor": 0,
 "worksheets": [
  {
   "cells": [
    {
     "cell_type": "markdown",
     "metadata": {},
     "source": [
      "#90\u30eb\u30fc\u30eb\n",
      "[\u30bb\u30eb\u30fb\u30aa\u30fc\u30c8\u30de\u30c8\u30f3](http://mt-soft.sakura.ne.jp/kyozai/excel_vba/310_vba_chu/51_cell_automaton/main.html)"
     ]
    },
    {
     "cell_type": "code",
     "collapsed": false,
     "input": [
      "def Rule(rule, size=16):\n",
      "    a, d = [1], {7 - i:int(c == '1') for i, c in enumerate('{:8b}'.format(rule))}\n",
      "    for i in range(size):\n",
      "        print('%*s%s' % (size - i, '', ''.join('.#'[j] for j in a)))\n",
      "        a = [d[sum(x * y for x, y in zip([4, 2, 1],\n",
      "            ([0, 0] + a + [0, 0])[j:]))] for j in range(2 * i + 3)]"
     ],
     "language": "python",
     "metadata": {},
     "outputs": [],
     "prompt_number": 8
    },
    {
     "cell_type": "code",
     "collapsed": false,
     "input": [
      "Rule(90) # Rule(18), Rule(26), Rule(82), Rule(146), Rule(154), Rule(210), Rule(218)"
     ],
     "language": "python",
     "metadata": {},
     "outputs": [
      {
       "output_type": "stream",
       "stream": "stdout",
       "text": [
        "                #\n",
        "               #.#\n",
        "              #...#\n",
        "             #.#.#.#\n",
        "            #.......#\n",
        "           #.#.....#.#\n",
        "          #...#...#...#\n",
        "         #.#.#.#.#.#.#.#\n",
        "        #...............#\n",
        "       #.#.............#.#\n",
        "      #...#...........#...#\n",
        "     #.#.#.#.........#.#.#.#\n",
        "    #.......#.......#.......#\n",
        "   #.#.....#.#.....#.#.....#.#\n",
        "  #...#...#...#...#...#...#...#\n",
        " #.#.#.#.#.#.#.#.#.#.#.#.#.#.#.#\n"
       ]
      }
     ],
     "prompt_number": 34
    },
    {
     "cell_type": "code",
     "collapsed": false,
     "input": [
      "Rule(1, 8)"
     ],
     "language": "python",
     "metadata": {},
     "outputs": [
      {
       "output_type": "stream",
       "stream": "stdout",
       "text": [
        "        #\n",
        "       ...\n",
        "      #####\n",
        "     .......\n",
        "    #########\n",
        "   ...........\n",
        "  #############\n",
        " ...............\n"
       ]
      }
     ],
     "prompt_number": 11
    },
    {
     "cell_type": "code",
     "collapsed": false,
     "input": [
      "Rule(2, 8)"
     ],
     "language": "python",
     "metadata": {},
     "outputs": [
      {
       "output_type": "stream",
       "stream": "stdout",
       "text": [
        "        #\n",
        "       #..\n",
        "      #....\n",
        "     #......\n",
        "    #........\n",
        "   #..........\n",
        "  #............\n",
        " #..............\n"
       ]
      }
     ],
     "prompt_number": 12
    },
    {
     "cell_type": "code",
     "collapsed": false,
     "input": [
      "Rule(4, 8)"
     ],
     "language": "python",
     "metadata": {},
     "outputs": [
      {
       "output_type": "stream",
       "stream": "stdout",
       "text": [
        "        #\n",
        "       .#.\n",
        "      ..#..\n",
        "     ...#...\n",
        "    ....#....\n",
        "   .....#.....\n",
        "  ......#......\n",
        " .......#.......\n"
       ]
      }
     ],
     "prompt_number": 14
    },
    {
     "cell_type": "code",
     "collapsed": false,
     "input": [
      "Rule(5, 8)"
     ],
     "language": "python",
     "metadata": {},
     "outputs": [
      {
       "output_type": "stream",
       "stream": "stdout",
       "text": [
        "        #\n",
        "       .#.\n",
        "      #.#.#\n",
        "     .#.#.#.\n",
        "    #.#.#.#.#\n",
        "   .#.#.#.#.#.\n",
        "  #.#.#.#.#.#.#\n",
        " .#.#.#.#.#.#.#.\n"
       ]
      }
     ],
     "prompt_number": 15
    },
    {
     "cell_type": "code",
     "collapsed": false,
     "input": [
      "Rule(14, 8)"
     ],
     "language": "python",
     "metadata": {},
     "outputs": [
      {
       "output_type": "stream",
       "stream": "stdout",
       "text": [
        "        #\n",
        "       ##.\n",
        "      ##...\n",
        "     ##.....\n",
        "    ##.......\n",
        "   ##.........\n",
        "  ##...........\n",
        " ##.............\n"
       ]
      }
     ],
     "prompt_number": 26
    },
    {
     "cell_type": "code",
     "collapsed": false,
     "input": [
      "Rule(15, 8)"
     ],
     "language": "python",
     "metadata": {},
     "outputs": [
      {
       "output_type": "stream",
       "stream": "stdout",
       "text": [
        "        #\n",
        "       ##.\n",
        "      ##..#\n",
        "     ##..##.\n",
        "    ##..##..#\n",
        "   ##..##..##.\n",
        "  ##..##..##..#\n",
        " ##..##..##..##.\n"
       ]
      }
     ],
     "prompt_number": 27
    },
    {
     "cell_type": "code",
     "collapsed": false,
     "input": [
      "Rule(16, 8)"
     ],
     "language": "python",
     "metadata": {},
     "outputs": [
      {
       "output_type": "stream",
       "stream": "stdout",
       "text": [
        "        #\n",
        "       ..#\n",
        "      ....#\n",
        "     ......#\n",
        "    ........#\n",
        "   ..........#\n",
        "  ............#\n",
        " ..............#\n"
       ]
      }
     ],
     "prompt_number": 28
    },
    {
     "cell_type": "code",
     "collapsed": false,
     "input": [
      "Rule(19, 8)"
     ],
     "language": "python",
     "metadata": {},
     "outputs": [
      {
       "output_type": "stream",
       "stream": "stdout",
       "text": [
        "        #\n",
        "       #.#\n",
        "      #...#\n",
        "     #.###.#\n",
        "    #.......#\n",
        "   #.#######.#\n",
        "  #...........#\n",
        " #.###########.#\n"
       ]
      }
     ],
     "prompt_number": 35
    },
    {
     "cell_type": "code",
     "collapsed": false,
     "input": [
      "Rule(22, 8)"
     ],
     "language": "python",
     "metadata": {},
     "outputs": [
      {
       "output_type": "stream",
       "stream": "stdout",
       "text": [
        "        #\n",
        "       ###\n",
        "      #...#\n",
        "     ###.###\n",
        "    #.......#\n",
        "   ###.....###\n",
        "  #...#...#...#\n",
        " ###.###.###.###\n"
       ]
      }
     ],
     "prompt_number": 38
    },
    {
     "cell_type": "code",
     "collapsed": false,
     "input": [
      "Rule(23, 8)"
     ],
     "language": "python",
     "metadata": {},
     "outputs": [
      {
       "output_type": "stream",
       "stream": "stdout",
       "text": [
        "        #\n",
        "       ###\n",
        "      #...#\n",
        "     #######\n",
        "    #.......#\n",
        "   ###########\n",
        "  #...........#\n",
        " ###############\n"
       ]
      }
     ],
     "prompt_number": 39
    },
    {
     "cell_type": "code",
     "collapsed": false,
     "input": [
      "Rule(28, 8)"
     ],
     "language": "python",
     "metadata": {},
     "outputs": [
      {
       "output_type": "stream",
       "stream": "stdout",
       "text": [
        "        #\n",
        "       .##\n",
        "      ..#.#\n",
        "     ...#.##\n",
        "    ....#.#.#\n",
        "   .....#.#.##\n",
        "  ......#.#.#.#\n",
        " .......#.#.#.##\n"
       ]
      }
     ],
     "prompt_number": 44
    },
    {
     "cell_type": "code",
     "collapsed": false,
     "input": [
      "Rule(50, 8)"
     ],
     "language": "python",
     "metadata": {},
     "outputs": [
      {
       "output_type": "stream",
       "stream": "stdout",
       "text": [
        "        #\n",
        "       #.#\n",
        "      #.#.#\n",
        "     #.#.#.#\n",
        "    #.#.#.#.#\n",
        "   #.#.#.#.#.#\n",
        "  #.#.#.#.#.#.#\n",
        " #.#.#.#.#.#.#.#\n"
       ]
      }
     ],
     "prompt_number": 64
    },
    {
     "cell_type": "code",
     "collapsed": false,
     "input": [
      "Rule(60, 8)"
     ],
     "language": "python",
     "metadata": {},
     "outputs": [
      {
       "output_type": "stream",
       "stream": "stdout",
       "text": [
        "        #\n",
        "       .##\n",
        "      ..#.#\n",
        "     ...####\n",
        "    ....#...#\n",
        "   .....##..##\n",
        "  ......#.#.#.#\n",
        " .......########\n"
       ]
      }
     ],
     "prompt_number": 65
    },
    {
     "cell_type": "code",
     "collapsed": false,
     "input": [
      "Rule(70, 8)"
     ],
     "language": "python",
     "metadata": {},
     "outputs": [
      {
       "output_type": "stream",
       "stream": "stdout",
       "text": [
        "        #\n",
        "       ##.\n",
        "      #.#..\n",
        "     ##.#...\n",
        "    #.#.#....\n",
        "   ##.#.#.....\n",
        "  #.#.#.#......\n",
        " ##.#.#.#.......\n"
       ]
      }
     ],
     "prompt_number": 77
    },
    {
     "cell_type": "code",
     "collapsed": false,
     "input": [
      "Rule(91, 8)"
     ],
     "language": "python",
     "metadata": {},
     "outputs": [
      {
       "output_type": "stream",
       "stream": "stdout",
       "text": [
        "        #\n",
        "       #.#\n",
        "      #...#\n",
        "     #.###.#\n",
        "    #..#.#..#\n",
        "   #.##...##.#\n",
        "  #..#######..#\n",
        " #.###.....###.#\n"
       ]
      }
     ],
     "prompt_number": 80
    },
    {
     "cell_type": "code",
     "collapsed": false,
     "input": [
      "Rule(102, 8)"
     ],
     "language": "python",
     "metadata": {},
     "outputs": [
      {
       "output_type": "stream",
       "stream": "stdout",
       "text": [
        "        #\n",
        "       ##.\n",
        "      #.#..\n",
        "     ####...\n",
        "    #...#....\n",
        "   ##..##.....\n",
        "  #.#.#.#......\n",
        " ########.......\n"
       ]
      }
     ],
     "prompt_number": 73
    },
    {
     "cell_type": "code",
     "collapsed": false,
     "input": [
      "Rule(105, 8)"
     ],
     "language": "python",
     "metadata": {},
     "outputs": [
      {
       "output_type": "stream",
       "stream": "stdout",
       "text": [
        "        #\n",
        "       ...\n",
        "      #####\n",
        "     .#...#.\n",
        "    #...#...#\n",
        "   ...#...#...\n",
        "  ###...#...###\n",
        " .#.#.#...#.#.#.\n"
       ]
      }
     ],
     "prompt_number": 89
    },
    {
     "cell_type": "code",
     "collapsed": false,
     "input": [
      "Rule(109, 8)"
     ],
     "language": "python",
     "metadata": {},
     "outputs": [
      {
       "output_type": "stream",
       "stream": "stdout",
       "text": [
        "        #\n",
        "       .#.\n",
        "      #.#.#\n",
        "     .#####.\n",
        "    #.#...#.#\n",
        "   .###.#.###.\n",
        "  #.#.#####.#.#\n",
        " .#####...#####.\n"
       ]
      }
     ],
     "prompt_number": 90
    },
    {
     "cell_type": "code",
     "collapsed": false,
     "input": [
      "Rule(129, 8)"
     ],
     "language": "python",
     "metadata": {},
     "outputs": [
      {
       "output_type": "stream",
       "stream": "stdout",
       "text": [
        "        #\n",
        "       ...\n",
        "      #####\n",
        "     ..###..\n",
        "    ##..#..##\n",
        "   ...........\n",
        "  #############\n",
        " ..###########..\n"
       ]
      }
     ],
     "prompt_number": 92
    },
    {
     "cell_type": "code",
     "collapsed": false,
     "input": [
      "Rule(147, 8)"
     ],
     "language": "python",
     "metadata": {},
     "outputs": [
      {
       "output_type": "stream",
       "stream": "stdout",
       "text": [
        "        #\n",
        "       #.#\n",
        "      #...#\n",
        "     #.###.#\n",
        "    #...#...#\n",
        "   #.###.###.#\n",
        "  #...#...#...#\n",
        " #.###.###.###.#\n"
       ]
      }
     ],
     "prompt_number": 94
    },
    {
     "cell_type": "code",
     "collapsed": false,
     "input": [
      "Rule(150, 8)"
     ],
     "language": "python",
     "metadata": {},
     "outputs": [
      {
       "output_type": "stream",
       "stream": "stdout",
       "text": [
        "        #\n",
        "       ###\n",
        "      #.#.#\n",
        "     ##.#.##\n",
        "    #...#...#\n",
        "   ###.###.###\n",
        "  #.#...#...#.#\n",
        " ##.##.###.##.##\n"
       ]
      }
     ],
     "prompt_number": 95
    },
    {
     "cell_type": "code",
     "collapsed": false,
     "input": [
      "Rule(151, 8)"
     ],
     "language": "python",
     "metadata": {},
     "outputs": [
      {
       "output_type": "stream",
       "stream": "stdout",
       "text": [
        "        #\n",
        "       ###\n",
        "      #.#.#\n",
        "     ##.#.##\n",
        "    #...#...#\n",
        "   ###########\n",
        "  #.#########.#\n",
        " ##..#######..##\n"
       ]
      }
     ],
     "prompt_number": 98
    },
    {
     "cell_type": "code",
     "collapsed": false,
     "input": [
      "Rule(182, 8)"
     ],
     "language": "python",
     "metadata": {},
     "outputs": [
      {
       "output_type": "stream",
       "stream": "stdout",
       "text": [
        "        #\n",
        "       ###\n",
        "      #.#.#\n",
        "     #######\n",
        "    #.#####.#\n",
        "   ###.###.###\n",
        "  #.#.#.#.#.#.#\n",
        " ###############\n"
       ]
      }
     ],
     "prompt_number": 101
    },
    {
     "cell_type": "code",
     "collapsed": false,
     "input": [
      "Rule(201, 8)"
     ],
     "language": "python",
     "metadata": {},
     "outputs": [
      {
       "output_type": "stream",
       "stream": "stdout",
       "text": [
        "        #\n",
        "       ...\n",
        "      #####\n",
        "     .#####.\n",
        "    #.#####.#\n",
        "   ...#####...\n",
        "  ###.#####.###\n",
        " .###.#####.###.\n"
       ]
      }
     ],
     "prompt_number": 103
    },
    {
     "cell_type": "code",
     "collapsed": false,
     "input": [
      "Rule(206, 8)"
     ],
     "language": "python",
     "metadata": {},
     "outputs": [
      {
       "output_type": "stream",
       "stream": "stdout",
       "text": [
        "        #\n",
        "       ##.\n",
        "      ###..\n",
        "     ####...\n",
        "    #####....\n",
        "   ######.....\n",
        "  #######......\n",
        " ########.......\n"
       ]
      }
     ],
     "prompt_number": 104
    },
    {
     "cell_type": "code",
     "collapsed": false,
     "input": [
      "Rule(207, 8)"
     ],
     "language": "python",
     "metadata": {},
     "outputs": [
      {
       "output_type": "stream",
       "stream": "stdout",
       "text": [
        "        #\n",
        "       ##.\n",
        "      ###.#\n",
        "     ####.#.\n",
        "    #####.#.#\n",
        "   ######.#.#.\n",
        "  #######.#.#.#\n",
        " ########.#.#.#.\n"
       ]
      }
     ],
     "prompt_number": 106
    },
    {
     "cell_type": "code",
     "collapsed": false,
     "input": [
      "Rule(219, 8)"
     ],
     "language": "python",
     "metadata": {},
     "outputs": [
      {
       "output_type": "stream",
       "stream": "stdout",
       "text": [
        "        #\n",
        "       #.#\n",
        "      #...#\n",
        "     #.###.#\n",
        "    #..###..#\n",
        "   #.#######.#\n",
        "  #..#######..#\n",
        " #.###########.#\n"
       ]
      }
     ],
     "prompt_number": 108
    },
    {
     "cell_type": "code",
     "collapsed": false,
     "input": [
      "Rule(222, 8)"
     ],
     "language": "python",
     "metadata": {},
     "outputs": [
      {
       "output_type": "stream",
       "stream": "stdout",
       "text": [
        "        #\n",
        "       ###\n",
        "      #####\n",
        "     #######\n",
        "    #########\n",
        "   ###########\n",
        "  #############\n",
        " ###############\n"
       ]
      }
     ],
     "prompt_number": 110
    },
    {
     "cell_type": "code",
     "collapsed": false,
     "input": [
      "Rule(233, 8)"
     ],
     "language": "python",
     "metadata": {},
     "outputs": [
      {
       "output_type": "stream",
       "stream": "stdout",
       "text": [
        "        #\n",
        "       ...\n",
        "      #####\n",
        "     .#####.\n",
        "    #.#####.#\n",
        "   ..#######..\n",
        "  ##.#######.##\n",
        " .#############.\n"
       ]
      }
     ],
     "prompt_number": 111
    }
   ],
   "metadata": {}
  }
 ]
}